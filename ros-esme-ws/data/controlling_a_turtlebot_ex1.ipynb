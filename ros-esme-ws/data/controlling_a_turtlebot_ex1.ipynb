{
 "cells": [
  {
   "cell_type": "markdown",
   "metadata": {},
   "source": [
    "# A Turtle bot\n",
    "\n",
    "\n",
    "In this exercice you have to code a simple obstacle avoidance system for the turtlebot.\n",
    "\n",
    "Here is a video of the expected result: https://youtu.be/nsdixTXz4V0\n",
    "\n",
    "Launch the turtle bot gazebo with corridor world:\n",
    "\n",
    "TURTLEBOT_GAZEBO_WORLD_FILE=/opt/ros/kinetic/share/turtlebot_gazebo/worlds/corridor.world roslaunch turtlebot_gazebo turtlebot_world.launch\n",
    "\n",
    "In order to avoid obstacles, you can use the /scan topics which corresponds to the depth information projected on a 2D plan (visualize it in rviz in order to better understand what it means).\n",
    "\n",
    "When you are close to a wall you can change the direction.\n",
    "\n"
   ]
  },
  {
   "cell_type": "code",
   "execution_count": 4,
   "metadata": {
    "collapsed": false
   },
   "outputs": [],
   "source": [
    "import numpy as np"
   ]
  },
  {
   "cell_type": "code",
   "execution_count": 1,
   "metadata": {
    "collapsed": false,
    "scrolled": true
   },
   "outputs": [],
   "source": [
    "import rospy\n",
    "\n",
    "from geometry_msgs.msg import Twist   # we import the Twist message type\n",
    "\n",
    "# TODO: import the LaserScan msg from sensors_msgs package :\n",
    "from sensor_msgs.msg import LaserScan\n",
    "\n",
    "rospy.init_node(\"TurtleBotPythonNode\")\n",
    "topic_cmd = '/mobile_base/commands/velocity'\n",
    "cmd_publisher = rospy.Publisher(topic_cmd, Twist, queue_size=1)\n",
    "\n",
    "cur_laserscan = LaserScan()\n",
    "def laserscan_callback(data):\n",
    "    global cur_laserscan\n",
    "    cur_laserscan = data\n",
    "# \n",
    "laser_scan_subscriber = rospy.Subscriber('/scan', LaserScan, laserscan_callback)\n",
    "\n"
   ]
  },
  {
   "cell_type": "code",
   "execution_count": 6,
   "metadata": {
    "collapsed": false
   },
   "outputs": [
    {
     "data": {
      "text/plain": [
       "1.756871223449707"
      ]
     },
     "execution_count": 6,
     "metadata": {},
     "output_type": "execute_result"
    }
   ],
   "source": [
    "rospy.sleep(1)\n",
    "np.nanmin(cur_laserscan.ranges)"
   ]
  },
  {
   "cell_type": "code",
   "execution_count": 30,
   "metadata": {
    "collapsed": true
   },
   "outputs": [],
   "source": [
    "def is_close_to_wall(laserscan, max_distance_to_obstacle=0.9):\n",
    "    \"\"\"\n",
    "    Complete the function you can use the function np.nanmin or min in order to get the minimum value of a list\n",
    "    \"\"\"\n",
    "    return np.nanmin(laserscan.ranges) < max_distance_to_obstacle\n",
    "\n",
    "\n",
    "def move_forward():\n",
    "    global cmd_publisher\n",
    "    vel_cmd = Twist()\n",
    "    vel_cmd.linear.x = 0.5\n",
    "    cmd_publisher.publish(vel_cmd)\n",
    "        \n",
    "def turn_left():\n",
    "    global cmd_publisher\n",
    "    vel_cmd = Twist()\n",
    "    vel_cmd.angular.z = 0.5\n",
    "    cmd_publisher.publish(vel_cmd)"
   ]
  },
  {
   "cell_type": "code",
   "execution_count": 26,
   "metadata": {
    "collapsed": false
   },
   "outputs": [],
   "source": [
    "def do_move():\n",
    "    global cur_laserscan\n",
    "    if is_close_to_wall(cur_laserscan):\n",
    "        turn_left()\n",
    "    else:\n",
    "        move_forward()\n",
    "\n",
    "    rospy.sleep(0.2)"
   ]
  },
  {
   "cell_type": "code",
   "execution_count": 31,
   "metadata": {
    "collapsed": false
   },
   "outputs": [],
   "source": [
    "for i in range(1000):\n",
    "    do_move()\n",
    "    rospy.sleep(0.1)"
   ]
  }
 ],
 "metadata": {
  "anaconda-cloud": {},
  "kernelspec": {
   "display_name": "Python 2",
   "language": "python",
   "name": "python2"
  },
  "language_info": {
   "codemirror_mode": {
    "name": "ipython",
    "version": 2
   },
   "file_extension": ".py",
   "mimetype": "text/x-python",
   "name": "python",
   "nbconvert_exporter": "python",
   "pygments_lexer": "ipython2",
   "version": "2.7.12"
  }
 },
 "nbformat": 4,
 "nbformat_minor": 1
}
