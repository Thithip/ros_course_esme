{
 "cells": [
  {
   "cell_type": "markdown",
   "metadata": {},
   "source": [
    "# Assignement 2\n",
    "\n",
    "In this assignement you will learn to make a robot move and avoid obstacles.\n",
    "\n",
    "Objectives:\n",
    " - use a robot simulator: Gazebo\n",
    " - visualize robot sensors in Rviz\n",
    " - programm a simple obstacle avoidance algorithm\n",
    " - control a simulated robot\n",
    " - control a real robot\n",
    " - have fun\n",
    "\n",
    "The expected result at the end of the assignement is \n",
    "\n",
    "![gazebo_rviz](static/img/screen_turtlebot_gazebo_rviz.png)\n",
    "Expected result: https://youtu.be/nsdixTXz4V0\n",
    "\n",
    "\n",
    "\n",
    "Ressources:\n",
    "-  http://gazebosim.org/tutorials: official gazebo documentation\n"
   ]
  },
  {
   "cell_type": "markdown",
   "metadata": {},
   "source": [
    "Tips:\n",
    "\n",
    "### To open a new terminal: \n",
    "\n",
    "    xterm &\n",
    "    \n",
    "### To copy and paste in an xterminal:\n",
    "\n",
    "    select what you want to copy with the mouse\n",
    "    paste using the middle button (or use shift+insert shortcut)\n",
    "    \n"
   ]
  },
  {
   "cell_type": "markdown",
   "metadata": {},
   "source": [
    "## 1. Launch the robot simulator\n",
    "\n",
    "- load a world\n",
    "- spawn a robot in the world\n",
    "\n",
    "Fortunately, it could be done in one command:\n",
    "\n",
    "    TURTLEBOT_GAZEBO_WORLD_FILE=/opt/ros/kinetic/share/turtlebot_gazebo/worlds/corridor.world roslaunch turtlebot_gazebo turtlebot_world.launch\n",
    "\n",
    "\n"
   ]
  },
  {
   "cell_type": "markdown",
   "metadata": {
    "collapsed": true
   },
   "source": [
    "## 2. List all the availables topics\n",
    "\n",
    "List all the availables topics and their types using:\n",
    "\n",
    "    rostopic list or rostopic list -v\n",
    "    \n"
   ]
  },
  {
   "cell_type": "raw",
   "metadata": {
    "collapsed": false
   },
   "source": [
    "rostopic list\n",
    "/camera/depth/camera_info\n",
    "/camera/depth/image_raw\n",
    "...\n",
    "[to complete]"
   ]
  },
  {
   "cell_type": "raw",
   "metadata": {},
   "source": [
    "ANSWER:\n",
    "\n",
    "!!!\n",
    "rostopic list\n",
    "/camera/depth/camera_info\n",
    "/camera/depth/image_raw\n",
    "/camera/depth/points\n",
    "/camera/parameter_descriptions\n",
    "/camera/parameter_updates\n",
    "/camera/rgb/camera_info\n",
    "/camera/rgb/image_raw\n",
    "/clock\n",
    "/cmd_vel_mux/active\n",
    "/cmd_vel_mux/input/navi\n",
    "/cmd_vel_mux/input/safety_controller\n",
    "/cmd_vel_mux/input/switch\n",
    "/cmd_vel_mux/input/teleop\n",
    "/cmd_vel_mux/parameter_descriptions\n",
    "/cmd_vel_mux/parameter_updates\n",
    "/depthimage_to_laserscan/parameter_descriptions\n",
    "/depthimage_to_laserscan/parameter_updates\n",
    "/gazebo/link_states\n",
    "/gazebo/model_states\n",
    "/gazebo/parameter_descriptions\n",
    "/gazebo/parameter_updates\n",
    "/gazebo/set_link_state\n",
    "/gazebo/set_model_state\n",
    "/joint_states\n",
    "/laserscan_nodelet_manager/bond\n",
    "/mobile_base/commands/motor_power\n",
    "/mobile_base/commands/reset_odometry\n",
    "/mobile_base/commands/velocity\n",
    "/mobile_base/events/bumper\n",
    "/mobile_base/events/cliff\n",
    "/mobile_base/sensors/bumper_pointcloud\n",
    "/mobile_base/sensors/core\n",
    "/mobile_base/sensors/imu_data\n",
    "/mobile_base_nodelet_manager/bond\n",
    "/odom\n",
    "/rosout\n",
    "/rosout_agg\n",
    "/scan\n",
    "/tf\n",
    "/tf_static\n"
   ]
  },
  {
   "cell_type": "markdown",
   "metadata": {
    "collapsed": false
   },
   "source": [
    "## 3. Visualize the /scan topic in a shell\n",
    "\n",
    "Use the command rostopic echo to visualize the scan topic\n",
    "\n",
    "Tip: Use the -n 1 option to display only one message"
   ]
  },
  {
   "cell_type": "raw",
   "metadata": {},
   "source": [
    "Your result:\n",
    "\n",
    "!!! \n",
    "\n",
    "rostopic echo -n 1 /scan\n",
    "\n"
   ]
  },
  {
   "cell_type": "markdown",
   "metadata": {},
   "source": [
    "## 4. The content of the /scan messages\n",
    "\n",
    "What is the type of the /scan topic ?  (tip: rostopic info topic_name)\n",
    "\n"
   ]
  },
  {
   "cell_type": "raw",
   "metadata": {},
   "source": [
    "!!!\n",
    "rostopic info /scan\n",
    "Type: sensor_msgs/LaserScan\n"
   ]
  },
  {
   "cell_type": "markdown",
   "metadata": {},
   "source": [
    "Use the command rosmsg to get more information concerning this type of message:\n",
    "\n",
    "    rosmsg type_name\n",
    "    \n",
    "Tip: Use the -r option to display the comments of each field"
   ]
  },
  {
   "cell_type": "raw",
   "metadata": {},
   "source": [
    "!!!\n",
    "rosmsg show sensor_msgs/LaserScan -r\n",
    "# Single scan from a planar laser range-finder\n",
    "#\n",
    "# If you have another ranging device with different behavior (e.g. a sonar\n",
    "# array), please find or create a different message, since applications\n",
    "# will make fairly laser-specific assumptions about this data\n",
    "\n",
    "Header header            # timestamp in the header is the acquisition time of \n",
    "                         # the first ray in the scan.\n",
    "                         #\n",
    "                         # in frame frame_id, angles are measured around \n",
    "                         # the positive Z axis (counterclockwise, if Z is up)\n",
    "                         # with zero angle being forward along the x axis\n",
    "                         \n",
    "float32 angle_min        # start angle of the scan [rad]\n",
    "float32 angle_max        # end angle of the scan [rad]\n",
    "float32 angle_increment  # angular distance between measurements [rad]\n",
    "\n",
    "float32 time_increment   # time between measurements [seconds] - if your scanner\n",
    "                         # is moving, this will be used in interpolating position\n",
    "                         # of 3d points\n",
    "float32 scan_time        # time between scans [seconds]\n",
    "\n",
    "float32 range_min        # minimum range value [m]\n",
    "float32 range_max        # maximum range value [m]\n",
    "\n",
    "float32[] ranges         # range data [m] (Note: values < range_min or > range_max should be discarded)\n",
    "float32[] intensities    # intensity data [device-specific units].  If your\n",
    "                         # device does not provide intensities, please leave\n",
    "                         # the array empty.\n"
   ]
  },
  {
   "cell_type": "markdown",
   "metadata": {},
   "source": [
    "On the following message what is the meaning of the value in bold\n",
    "\n",
    "<pre> \n",
    "header: \n",
    "  seq: 0\n",
    "  stamp: \n",
    "    secs: 0\n",
    "    nsecs:         0\n",
    "  frame_id: /camera_depth_frame\n",
    "angle_min: <b>-0.521567881107</b>\n",
    "angle_max: 0.524276316166\n",
    "angle_increment: <b>0.00163668883033</b>\n",
    "time_increment: 0.0\n",
    "scan_time: 0.0329999998212\n",
    "range_min: 0.449999988079\n",
    "range_max: <b>10.0</b>\n",
    "ranges: [<b>2.0153989791870117</b>, <b>2.0138657093048096</b>, 2.012336492538452, 2.0108108520507812, 2.0077707767486572, 2.006256341934204, 2.0047457218170166, 2.0032386779785156, 2.0017354488372803, 2.0002357959747314, 1.9972481727600098, 1.9957600831985474, 1.9942755699157715, 1.9927947521209717, 1.9913179874420166, 1.9883757829666138, 1.9869105815887451, 1.9854487180709839, 1.9839911460876465, 1.9825372695922852, 1.9810874462127686, 1.9781988859176636, 1.9767606258392334, 1.9753262996673584, 1.973895788192749, 1.9724690914154053, 1.9710463285446167, 1.9696277379989624, 1.9668021202087402, <b>nan</b>, 1.9639922380447388, 1.9625933170318604, 1.9611984491348267, 1.9598076343536377, 1.958420753479004, 1.9556587934494019, 1.9542839527130127, 1.9529131650924683, 1.9515464305877686, 1.950183629989624, 1.9488251209259033, 1.9474706649780273, 1.946120262145996, 1.9434314966201782, 1.942093\n",
    "\n",
    "</pre>"
   ]
  },
  {
   "cell_type": "raw",
   "metadata": {},
   "source": [
    "Answer:\n",
    "\n",
    "!!!\n",
    "-0.52: min angle is -0.52 radian\n",
    "0.00163: the angle increment is 0.001636 radian\n",
    "10.0: the maximum visibility distance is 10.0 meters\n",
    "2.015: there is an obstacle at 2.015 meter in the direction -0.52156 radian\n",
    "2.01386: there is an obstacle at 2.01386 meter in the direction (-0.5199 radian)\n"
   ]
  },
  {
   "cell_type": "markdown",
   "metadata": {},
   "source": [
    "How could you use this information to build a small application that makes the robot move forward until there is an obstacle in 5 meter distance. (use pseudo-code)"
   ]
  },
  {
   "cell_type": "raw",
   "metadata": {},
   "source": [
    "Answer:\n",
    "!!!\n",
    "Tant que aucune valeur de distance sur le topic message n'est inférieure à 5 mètres\n",
    "    Robot_avance()\n",
    "\n"
   ]
  },
  {
   "cell_type": "markdown",
   "metadata": {},
   "source": [
    "## 5. Visualize the robot sensors data in Rviz\n",
    "\n",
    "Run the ros visualization tool using the following command\n",
    "\n",
    "    rosrun rviz rviz"
   ]
  },
  {
   "cell_type": "markdown",
   "metadata": {},
   "source": [
    "### a) Set the fixed frame\n",
    "\n",
    "Set the fixed frame to /base_link\n",
    "\n"
   ]
  },
  {
   "cell_type": "markdown",
   "metadata": {},
   "source": [
    "### b) Add a robot model\n"
   ]
  },
  {
   "cell_type": "markdown",
   "metadata": {},
   "source": [
    "### c) Add a laser scan visualization that display the /scan topic\n",
    "\n",
    "\n",
    "To get a color that represent the distance to the obstacle you can use the Color transformer intensity on the x axis."
   ]
  },
  {
   "cell_type": "markdown",
   "metadata": {},
   "source": [
    "### d) Add a pointcloud2 visualization that display the 3d camera pointcloud\n"
   ]
  },
  {
   "cell_type": "markdown",
   "metadata": {},
   "source": [
    "### e) Move the robot in gazebo and check that the visualization works as expected\n"
   ]
  },
  {
   "cell_type": "markdown",
   "metadata": {},
   "source": [
    "## 6. Send command to move the robot\n",
    "\n",
    "As with the turlesimulator you can send command to the robot using a cmd_vel topic.\n",
    "\n",
    "use the following command to make the robot move forward\n",
    "\n",
    "     rostopic pub /cmd_vel_mux/input/teleop geometry_msgs/Twist \"linear:\n",
    "      x: 1.0\n",
    "      y: 0.0\n",
    "      z: 0.0\n",
    "    angular:\n",
    "      x: 0.0\n",
    "      y: 0.0\n",
    "      z: 0.0\""
   ]
  },
  {
   "cell_type": "markdown",
   "metadata": {},
   "source": [
    "## 7. Write an obstacle detection function\n",
    "\n",
    "Complete the following python code so that the function return True if there is a front obstacle in the scan message in less than 4.0 meters.\n",
    "\n",
    "    Tip use the np.nanmin, np.nanmean, np.nanmax function"
   ]
  },
  {
   "cell_type": "code",
   "execution_count": 2,
   "metadata": {
    "collapsed": false
   },
   "outputs": [],
   "source": [
    "# !!!\n",
    "from sensor_msgs.msg import LaserScan\n",
    "\n",
    "def is_obstacle_front(laser_scan_msg, obstacle_threshold_distance=4.0):\n",
    "    res = False\n",
    "    my_min = np.nanmin(laser_scan_msg.ranges)\n",
    "    if  my_min > obstacle_threshold_distance:\n",
    "        return False\n",
    "    return True\n"
   ]
  },
  {
   "cell_type": "markdown",
   "metadata": {},
   "source": [
    "Test your function on the two following message"
   ]
  },
  {
   "cell_type": "code",
   "execution_count": 3,
   "metadata": {
    "collapsed": true
   },
   "outputs": [],
   "source": [
    "from sensor_msgs.msg import LaserScan\n",
    "import numpy as np\n",
    "\n",
    "laser_scan_msg_without_obstacle = LaserScan()\n",
    "laser_scan_msg_without_obstacle.ranges = [np.nan, np.nan, 8, 8, 9, 7, 8, np.nan, 7]\n",
    "\n",
    "laser_scan_msg_with_obstacle = LaserScan()\n",
    "laser_scan_msg_with_obstacle.ranges = [3, np.nan, 1, 2, 1, 3, 8, np.nan, 3]\n"
   ]
  },
  {
   "cell_type": "code",
   "execution_count": 4,
   "metadata": {
    "collapsed": false
   },
   "outputs": [
    {
     "data": {
      "text/plain": [
       "True"
      ]
     },
     "execution_count": 4,
     "metadata": {},
     "output_type": "execute_result"
    }
   ],
   "source": [
    "is_obstacle_front(laser_scan_msg_with_obstacle)"
   ]
  },
  {
   "cell_type": "code",
   "execution_count": 7,
   "metadata": {
    "collapsed": false
   },
   "outputs": [
    {
     "data": {
      "text/plain": [
       "False"
      ]
     },
     "execution_count": 7,
     "metadata": {},
     "output_type": "execute_result"
    }
   ],
   "source": [
    "# !!!\n",
    "is_obstacle_front(laser_scan_msg_without_obstacle)"
   ]
  },
  {
   "cell_type": "markdown",
   "metadata": {},
   "source": [
    "### 7.bis) Write a function that return a forward move cmd if there is no obstacle\n",
    "\n",
    "\n",
    "Using the previous function write a function that return a cmd (Twist message) that represent a forward move if there is no front obstacle, and a stop command if there is an obstacle. "
   ]
  },
  {
   "cell_type": "code",
   "execution_count": 8,
   "metadata": {
    "collapsed": false
   },
   "outputs": [],
   "source": [
    "# !!!\n",
    "from geometry_msgs.msg import Twist\n",
    "\n",
    "def compute_move_cmd(laser_scan_msg, obstacle_threshold_distance=5.0, max_speed=0.1):\n",
    "    res = Twist()\n",
    "    if is_obstacle_front(laser_scan_msg, obstacle_threshold_distance=obstacle_threshold_distance):\n",
    "        res.linear.x = 0.0\n",
    "    else:\n",
    "        res.linear.x = max_speed\n",
    "    \n",
    "    return res\n",
    "    \n",
    "    "
   ]
  },
  {
   "cell_type": "markdown",
   "metadata": {},
   "source": [
    "Test your function with the two following LaserScan message:"
   ]
  },
  {
   "cell_type": "code",
   "execution_count": 9,
   "metadata": {
    "collapsed": false
   },
   "outputs": [
    {
     "name": "stdout",
     "output_type": "stream",
     "text": [
      "linear: \n",
      "  x: 0.0\n",
      "  y: 0.0\n",
      "  z: 0.0\n",
      "angular: \n",
      "  x: 0.0\n",
      "  y: 0.0\n",
      "  z: 0.0\n",
      "linear: \n",
      "  x: 0.1\n",
      "  y: 0.0\n",
      "  z: 0.0\n",
      "angular: \n",
      "  x: 0.0\n",
      "  y: 0.0\n",
      "  z: 0.0\n"
     ]
    }
   ],
   "source": [
    "from sensor_msgs.msg import LaserScan\n",
    "import numpy as np\n",
    "\n",
    "\n",
    "\n",
    "# TEST YOUR FUNCTION HERE !!! \n",
    "\n",
    "## !!!\n",
    "\n",
    "print(compute_move_cmd(laser_scan_msg_with_obstacle))\n",
    "print(compute_move_cmd(laser_scan_msg_without_obstacle))"
   ]
  },
  {
   "cell_type": "markdown",
   "metadata": {},
   "source": [
    "### 8) Test your function on the robot\n",
    "\n",
    "- Use the notebook to test your function on the simulated robot [move_until_obstacle_node](move_until_obstacle_node.ipynb)\n"
   ]
  },
  {
   "cell_type": "code",
   "execution_count": null,
   "metadata": {
    "collapsed": true
   },
   "outputs": [],
   "source": []
  },
  {
   "cell_type": "markdown",
   "metadata": {},
   "source": [
    "### 9) Now you are going to write an exploration function\n",
    "\n",
    "Write a function that return: \n",
    "\n",
    "Move forward if there is no front obstacle\n",
    "Turn Left if there is a front obstacle \n",
    "\n",
    "\n"
   ]
  },
  {
   "cell_type": "code",
   "execution_count": 11,
   "metadata": {
    "collapsed": true
   },
   "outputs": [],
   "source": [
    "from geometry_msgs.msg import Twist\n",
    "\n",
    "# !!!\n",
    "def compute_move_cmd(laser_scan_msg, obstacle_threshold_distance=5.0, max_speed=0.1):\n",
    "    res = Twist()\n",
    "    if is_obstacle_front(laser_scan_msg, obstacle_threshold_distance=obstacle_threshold_distance):\n",
    "        res.linear.x = 0.0\n",
    "        res.angular.z = 0.1\n",
    "    else:\n",
    "        res.linear.x = max_speed\n",
    "    \n",
    "    return res\n",
    "    "
   ]
  },
  {
   "cell_type": "markdown",
   "metadata": {},
   "source": [
    "### 9 bis): test your function on the robot\n",
    "\n",
    "- Use the notebook to test your function on the simulated robot [move_until_obstacle_node](move_until_obstacle_node.ipynb)\n"
   ]
  },
  {
   "cell_type": "code",
   "execution_count": null,
   "metadata": {
    "collapsed": false
   },
   "outputs": [],
   "source": []
  },
  {
   "cell_type": "markdown",
   "metadata": {},
   "source": [
    "### Bonus 1: Improve the previous function so your robot could explore all the environment\n",
    "\n",
    "Some ideas: Take a right turn if there is less obstacle on the left than the right etc.."
   ]
  },
  {
   "cell_type": "code",
   "execution_count": null,
   "metadata": {
    "collapsed": true
   },
   "outputs": [],
   "source": []
  },
  {
   "cell_type": "markdown",
   "metadata": {},
   "source": [
    "### Bonus 2: Test on the real turtleBot"
   ]
  },
  {
   "cell_type": "code",
   "execution_count": null,
   "metadata": {
    "collapsed": true
   },
   "outputs": [],
   "source": []
  }
 ],
 "metadata": {
  "anaconda-cloud": {},
  "kernelspec": {
   "display_name": "Python 2",
   "language": "python",
   "name": "python2"
  },
  "language_info": {
   "codemirror_mode": {
    "name": "ipython",
    "version": 2
   },
   "file_extension": ".py",
   "mimetype": "text/x-python",
   "name": "python",
   "nbconvert_exporter": "python",
   "pygments_lexer": "ipython2",
   "version": "2.7.12"
  }
 },
 "nbformat": 4,
 "nbformat_minor": 1
}
