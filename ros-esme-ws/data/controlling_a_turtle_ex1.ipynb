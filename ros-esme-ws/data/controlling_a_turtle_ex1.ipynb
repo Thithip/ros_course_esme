{
 "cells": [
  {
   "cell_type": "markdown",
   "metadata": {},
   "source": [
    "# A turtle that goes forward\n",
    "\n",
    "\n",
    "In this first exercice you will be required to make the turtle to move continuously in forward direction.\n",
    "\n",
    "Update the following code to move the turtle by 0.5 meter/sec.\n",
    "\n",
    "To reset the turtle position (if required) you can use the rosservice /reset:\n",
    "\n",
    "     rosservice call /reset\n"
   ]
  },
  {
   "cell_type": "code",
   "execution_count": 1,
   "metadata": {
    "collapsed": false
   },
   "outputs": [
    {
     "name": "stdout",
     "output_type": "stream",
     "text": [
      "\r\n"
     ]
    }
   ],
   "source": [
    "!rosservice call /reset   # this allow to call rosservice from the shell"
   ]
  },
  {
   "cell_type": "code",
   "execution_count": 2,
   "metadata": {
    "collapsed": false
   },
   "outputs": [
    {
     "name": "stdout",
     "output_type": "stream",
     "text": [
      "Starting job # 0 in a separate thread.\n"
     ]
    }
   ],
   "source": [
    "%%bash --out output --err error --bg\n",
    "rosrun rqt_graph rqt_graph "
   ]
  },
  {
   "cell_type": "code",
   "execution_count": 3,
   "metadata": {
    "collapsed": false,
    "scrolled": true
   },
   "outputs": [
    {
     "ename": "SyntaxError",
     "evalue": "invalid syntax (<ipython-input-3-7050d53c6f48>, line 8)",
     "output_type": "error",
     "traceback": [
      "\u001b[0;36m  File \u001b[0;32m\"<ipython-input-3-7050d53c6f48>\"\u001b[0;36m, line \u001b[0;32m8\u001b[0m\n\u001b[0;31m    # COMPLETE HERE\u001b[0m\n\u001b[0m                   ^\u001b[0m\n\u001b[0;31mSyntaxError\u001b[0m\u001b[0;31m:\u001b[0m invalid syntax\n"
     ]
    }
   ],
   "source": [
    "import rospy\n",
    "\n",
    "from geometry_msgs.msg import Twist   # we import the Twist message type\n",
    "\n",
    "rospy.init_node(\"TurtleEx1\")\n",
    "\n",
    "cmd_publisher = rospy.Publisher(  ## TODO\n",
    "    # COMPLETE HERE"
   ]
  }
 ],
 "metadata": {
  "anaconda-cloud": {},
  "kernelspec": {
   "display_name": "Python 2",
   "language": "python",
   "name": "python2"
  },
  "language_info": {
   "codemirror_mode": {
    "name": "ipython",
    "version": 2
   },
   "file_extension": ".py",
   "mimetype": "text/x-python",
   "name": "python",
   "nbconvert_exporter": "python",
   "pygments_lexer": "ipython2",
   "version": "2.7.12"
  }
 },
 "nbformat": 4,
 "nbformat_minor": 1
}
