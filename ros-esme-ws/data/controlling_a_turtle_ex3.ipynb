{
 "cells": [
  {
   "cell_type": "markdown",
   "metadata": {},
   "source": [
    "# forward then turn\n",
    "\n",
    "\n",
    "In this exercice you will be ask to make the turtle move following a square shape:\n",
    "\n",
    "- go forward for 1 meter\n",
    "- turn to reach pi/2 heading\n",
    "- go forward for 2 meters\n",
    "- turn to reach pi heading\n",
    "- go forward for 2 meters\n",
    "- turn to reach 3pi/4 heading\n",
    "- go forward for 2 meters\n",
    "- turn to reach 0 heading\n",
    "- go forward for 1 meter\n",
    "\n",
    "The turtle current pose (x, y, heading) is saved in the variable turtle_pose. The idea here is to get familiar with publisher, so we don't require that the turtle follow a perfect square.\n",
    "\n",
    "To reset the turtle position (if required) you can use the rosservice /reset:\n",
    "\n",
    "     rosservice call /reset\n"
   ]
  },
  {
   "cell_type": "code",
   "execution_count": 1,
   "metadata": {
    "collapsed": false,
    "scrolled": true
   },
   "outputs": [],
   "source": [
    "#!rosservice call /reset   # this allow to call rosservice from the shell"
   ]
  },
  {
   "cell_type": "code",
   "execution_count": 1,
   "metadata": {
    "collapsed": false
   },
   "outputs": [
    {
     "ename": "SyntaxError",
     "evalue": "invalid syntax (<ipython-input-1-5e2bf2ed6443>, line 41)",
     "output_type": "error",
     "traceback": [
      "\u001b[0;36m  File \u001b[0;32m\"<ipython-input-1-5e2bf2ed6443>\"\u001b[0;36m, line \u001b[0;32m41\u001b[0m\n\u001b[0;31m    while   # complete the code here !\u001b[0m\n\u001b[0m                                      ^\u001b[0m\n\u001b[0;31mSyntaxError\u001b[0m\u001b[0;31m:\u001b[0m invalid syntax\n"
     ]
    }
   ],
   "source": [
    "import rospy\n",
    "from turtlesim.msg import Pose  # import the turtlesim Pose message type\n",
    "from geometry_msgs.msg import Twist   # we import the Twist message type\n",
    "import math\n",
    "\n",
    "turtle_pose = Pose() \n",
    "def pose_callback(data):\n",
    "    \"\"\"\n",
    "    a callback to save the current turtle pose into the global variable turtle_pose\n",
    "    \"\"\"\n",
    "    global turtle_pose\n",
    "    turtle_pose = data\n",
    "    #rospy.loginfo(\"New pose data {}\".format(data))\n",
    "\n",
    "\n",
    "    \n",
    "rospy.init_node(\"TurtleEx3\")\n",
    "\n",
    "turtle_pose_subscriber = rospy.Subscriber(\"/turtle1/pose\", Pose, pose_callback, queue_size=1)\n",
    "cmd_publisher = rospy.Publisher(\"/turtle1/cmd_vel\", Twist, queue_size=1)\n",
    "\n",
    "\n",
    "t = Twist()\n",
    "\n",
    "rospy.sleep(0.2)\n",
    "rospy.loginfo(turtle_pose)\n",
    "init_turtle_pose = turtle_pose\n",
    "\n",
    "while turtle_pose.x < init_turtle_pose.x + 2:\n",
    "    t = Twist()\n",
    "    t.linear.x = 0.1\n",
    "    cmd_publisher.publish(t)\n",
    "    rospy.sleep(0.1) # we wait a bit so the turtle has the time to move\n",
    "    \n",
    "while turtle_pose.theta < math.pi/2.:\n",
    "    t = Twist()\n",
    "    t.angular.z = 0.1  # radian/sec\n",
    "    cmd_publisher.publish(t)\n",
    "    rospy.sleep(0.1)\n",
    "\n",
    "while   # complete the code here !\n",
    "\n",
    "\n",
    "\n",
    "\n",
    "\n"
   ]
  }
 ],
 "metadata": {
  "anaconda-cloud": {},
  "kernelspec": {
   "display_name": "Python 2",
   "language": "python",
   "name": "python2"
  },
  "language_info": {
   "codemirror_mode": {
    "name": "ipython",
    "version": 2
   },
   "file_extension": ".py",
   "mimetype": "text/x-python",
   "name": "python",
   "nbconvert_exporter": "python",
   "pygments_lexer": "ipython2",
   "version": "2.7.12"
  }
 },
 "nbformat": 4,
 "nbformat_minor": 1
}
