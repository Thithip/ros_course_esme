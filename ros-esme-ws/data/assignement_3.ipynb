{
 "cells": [
  {
   "cell_type": "markdown",
   "metadata": {},
   "source": []
  },
  {
   "cell_type": "markdown",
   "metadata": {},
   "source": [
    "## Part 0: \n",
    "open some xterm "
   ]
  },
  {
   "cell_type": "markdown",
   "metadata": {},
   "source": [
    "# Part 1: MAP construction\n",
    "\n",
    "In this part **your purpose is to build a 2D map** of the environment **using the turtlebot robot in simulation**.\n",
    "\n",
    "To construct a map you will use a technique named Simultaneous Localization and Mapping (SLAM). You are going to use gMapping, probably the most used SLAM algorithm. It uses laser scan matching and robot odometry to build a map of the environment.\n",
    "\n",
    "For more information see:\n",
    "\n",
    "- https://en.wikipedia.org/wiki/Simultaneous_localization_and_mapping\n",
    "- book: https://www.amazon.com/gp/product/0262201623/102-8479661-9831324?v=glance&n=283155&n=507846&s=books&v=glance\n",
    "- free udacity course: https://classroom.udacity.com/courses/cs373"
   ]
  },
  {
   "cell_type": "markdown",
   "metadata": {},
   "source": [
    "## 1) Load the gazebo environment:\n",
    "\n",
    "Use the command to load the world playground and the turtlebot in gazebo simulator:\n",
    "\n",
    "    TURTLEBOT_GAZEBO_WORLD_FILE=/opt/ros/kinetic/share/turtlebot_gazebo/worlds/playground.world roslaunch turtlebot_gazebo turtlebot_world.launch"
   ]
  },
  {
   "cell_type": "markdown",
   "metadata": {},
   "source": [
    "## 2) Start the SLAM software:\n",
    "\n",
    "    roslaunch turtlebot_navigation gmapping.launch.xml"
   ]
  },
  {
   "cell_type": "markdown",
   "metadata": {},
   "source": [
    "## 3) Load the visualization environment:\n",
    "\n",
    "Run rviz using the command:\n",
    "\n",
    "    rosrun rviz rviz \n",
    "    \n",
    "In rviz add visualization for the following element:\n",
    "\n",
    "- map (set the topic to /map)\n",
    "- laserscan (set the topic to /scan)\n",
    "- robotmodel\n",
    "- pointcloud (set the topic to /camera/depth/points)\n",
    "- image (set the topic to /camera/rgb/image_raw)\n",
    "\n",
    "\n",
    "You can save the setup for future reuse (save it into /data/ directory).\n"
   ]
  },
  {
   "cell_type": "code",
   "execution_count": null,
   "metadata": {
    "collapsed": true
   },
   "outputs": [],
   "source": []
  },
  {
   "cell_type": "markdown",
   "metadata": {},
   "source": [
    "## 3) Build a map\n",
    "\n",
    "In order to build your first map you need to move the robot around. \n",
    "\n",
    "You can use the teleoperation node that allows to control the turtlebot using keyboard keys.\n",
    "\n",
    "    roslaunch turtlebot_teleop keyboard_teleop.launch\n",
    "    \n",
    "Use the keys to redduce the maximum speed: recommended speed:\n",
    "\n",
    "    - linear: 0.1 m/sec\n",
    "    - angular: 0.1 m/sec\n",
    "    \n",
    "Then you can use the direction keys to move the robot (you have to keep the focus on the terminal window where you start the teleoperation node).\n"
   ]
  },
  {
   "cell_type": "markdown",
   "metadata": {
    "collapsed": true
   },
   "source": [
    "**Move slowly** until you get the footprint of the 5 objects. Your map should now look like to:\n",
    "\n",
    "\n",
    "![playground.png](static/img/playground.png)\n",
    "\n",
    "Save the map in /data/ directory using the command:\n",
    "\n",
    "    rosrun map_server map_saver -f /data/my_map\n",
    "\n",
    "It will create two files:\n",
    "\n",
    "    /data/my_map.pgm\n",
    "    /data/my_map.yaml\n"
   ]
  },
  {
   "cell_type": "markdown",
   "metadata": {},
   "source": [
    "## 4) Stop the map construction software\n",
    "\n",
    "Run the following command to stop the map construction software:\n",
    "\n",
    "    rosnode kill /slam_gmapping\n",
    "    rosnode kill turtlebot_teleop_keyboard\n",
    "\n"
   ]
  },
  {
   "cell_type": "markdown",
   "metadata": {
    "collapsed": true
   },
   "source": [
    "# Part 2: Localization\n",
    "\n",
    "In this part you will localize the turtlebot in the map.\n",
    "\n",
    "You are going to use ros AMCL node (http://webcache.googleusercontent.com/search?q=cache:kr7BNEH2RKQJ:wiki.ros.org/amcl+&cd=1&hl=fr&ct=clnk&gl=fr) which is probabilistic localization system. It uses techniques like particle filters and scan matching in order to localize a robot in a map.\n",
    "\n"
   ]
  },
  {
   "cell_type": "markdown",
   "metadata": {
    "collapsed": true
   },
   "source": [
    "## 1) Start the localization software\n",
    "\n",
    "Use the following command to start the localization software with the map you created in the first part.\n",
    "\n",
    "    TURTLEBOT_MAP_FILE=/data/map.yaml roslaunch  turtlebot_navigation  amcl_demo.launch"
   ]
  },
  {
   "cell_type": "markdown",
   "metadata": {},
   "source": [
    "## 2) Add particles visualization\n",
    "\n",
    "Add the following visualization to see the estimated position of the turtlebot:\n",
    "\n",
    "    - PoseArray (use the topic /particlecloud)\n",
    "\n",
    "![particles.png](static/img/particles_rviz.png)\n",
    "\n",
    "\n",
    "\n",
    "Each red arrow corresponds to a \"particle\" representing a possible pose of the robot. When the algorithm has converge you should see one unique cluster of particle, your robot estimated position is in the middle of this cluster.\n",
    "\n"
   ]
  },
  {
   "cell_type": "markdown",
   "metadata": {},
   "source": [
    "!!! faire un screenshot de la fenêtre rviz avec les particules et le sauvegardé dans /data/"
   ]
  },
  {
   "cell_type": "markdown",
   "metadata": {},
   "source": [
    "## 2) Move the robot in gazebo\n",
    "\n",
    "In Gazebo client move the robot in the middle of the 5 objects\n"
   ]
  },
  {
   "cell_type": "markdown",
   "metadata": {
    "collapsed": true
   },
   "source": [
    "## 3) Start the localization procedure\n",
    "\n",
    "Now we you are going to tell the localization software that the robot could be anywhere in the world by spawning particle in all the map, for doing that use the following command:\n",
    "\n",
    "    rosservice call /global_localization "
   ]
  },
  {
   "cell_type": "markdown",
   "metadata": {},
   "source": [
    "## 4) Move the robot\n",
    "\n",
    "You can now send a rotation command to the robot using the following command:\n",
    "    \n",
    "    rostopic pub /cmd_vel_mux/input/teleop geometry_msgs/Twist \"linear:\n",
    "      x: 0.0\n",
    "      y: 0.0\n",
    "      z: 0.0\n",
    "    angular:\n",
    "      x: 0.0\n",
    "      y: 0.0\n",
    "      z: 0.1\" -r 10\n",
    "\n",
    "\n",
    "The robot should rotate, and a few clusters of particles should appears, at the end of the rotation your robot should be well localized.\n"
   ]
  },
  {
   "cell_type": "markdown",
   "metadata": {},
   "source": [
    "!!! faire un screenshot de la fenêtre rviz avec les particules et le sauvegardé dans /data/"
   ]
  },
  {
   "cell_type": "markdown",
   "metadata": {},
   "source": [
    "## 5) You can also help the robot to localize\n",
    "\n",
    "In rviz you can use the 2D pose estimate to spawn particles arround a specific position"
   ]
  },
  {
   "cell_type": "markdown",
   "metadata": {
    "collapsed": true
   },
   "source": [
    "# Part 3: \n",
    "\n",
    "In this part your objective is to make the robot move to a specific point in the map.\n"
   ]
  },
  {
   "cell_type": "markdown",
   "metadata": {},
   "source": [
    "## 1) Get some specific points\n",
    "\n",
    "In rviz you can select some points using the tool **Publish Point**\n",
    "The clicked point are published on the topic /clicked_point\n",
    "\n",
    "Use the following command in a terminal in order to get the published point\n",
    "\n",
    "\n",
    "\n",
    "Save in the following cells the x, y coordinates of the following points:\n",
    "    \n",
    "    \n"
   ]
  },
  {
   "cell_type": "raw",
   "metadata": {},
   "source": [
    "- point in front of the dumpster: x =  , y = \n",
    "- point in front of the bookshelf: x = , y = \n",
    "- point in front of the jersey barrier: x= , y ="
   ]
  },
  {
   "cell_type": "markdown",
   "metadata": {},
   "source": [
    "## 2) Send the robot to a target position"
   ]
  },
  {
   "cell_type": "markdown",
   "metadata": {},
   "source": [
    "You can send command to the robot by using the robot using the topic **/move_base_simple/goal**\n",
    "\n",
    "a) What is the type of this topic ?"
   ]
  },
  {
   "cell_type": "code",
   "execution_count": null,
   "metadata": {
    "collapsed": true
   },
   "outputs": [],
   "source": []
  },
  {
   "cell_type": "markdown",
   "metadata": {},
   "source": [
    "b) What command you could use to make the robot move to x =0, y=0 ?"
   ]
  },
  {
   "cell_type": "code",
   "execution_count": null,
   "metadata": {
    "collapsed": true
   },
   "outputs": [],
   "source": []
  },
  {
   "cell_type": "markdown",
   "metadata": {},
   "source": [
    "c) Try it, what do you observe (provide a description, and comments the behavior, why seems to go wrong ?)\n"
   ]
  },
  {
   "cell_type": "code",
   "execution_count": null,
   "metadata": {
    "collapsed": true
   },
   "outputs": [],
   "source": []
  },
  {
   "cell_type": "markdown",
   "metadata": {},
   "source": [
    "d) During a move what is the speed of the robot ?\n"
   ]
  },
  {
   "cell_type": "code",
   "execution_count": null,
   "metadata": {
    "collapsed": true
   },
   "outputs": [],
   "source": []
  },
  {
   "cell_type": "markdown",
   "metadata": {},
   "source": [
    "e) Now try to send the robot in front of the dumpster, then in front of the bookshelf, and finally in front of the jersey barrier"
   ]
  },
  {
   "cell_type": "code",
   "execution_count": null,
   "metadata": {
    "collapsed": true
   },
   "outputs": [],
   "source": []
  },
  {
   "cell_type": "markdown",
   "metadata": {},
   "source": [
    "## Part 4 (bonus):"
   ]
  },
  {
   "cell_type": "markdown",
   "metadata": {},
   "source": [
    "Write a node that print the name of the closest object to the robot (you can use a new notebook for that)"
   ]
  },
  {
   "cell_type": "code",
   "execution_count": null,
   "metadata": {
    "collapsed": true
   },
   "outputs": [],
   "source": []
  }
 ],
 "metadata": {
  "anaconda-cloud": {},
  "kernelspec": {
   "display_name": "Python 2",
   "language": "python",
   "name": "python2"
  },
  "language_info": {
   "codemirror_mode": {
    "name": "ipython",
    "version": 2
   },
   "file_extension": ".py",
   "mimetype": "text/x-python",
   "name": "python",
   "nbconvert_exporter": "python",
   "pygments_lexer": "ipython2",
   "version": "2.7.12"
  }
 },
 "nbformat": 4,
 "nbformat_minor": 1
}
