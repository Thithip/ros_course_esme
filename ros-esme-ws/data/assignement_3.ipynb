{
 "cells": [
  {
   "cell_type": "markdown",
   "metadata": {},
   "source": []
  },
  {
   "cell_type": "markdown",
   "metadata": {},
   "source": [
    "Step 0: open multiple xterm "
   ]
  },
  {
   "cell_type": "markdown",
   "metadata": {},
   "source": [
    "# Part 1: MAP construction\n",
    "\n",
    "In this part **your purpose is to build a 2D map** of the environment **using the turtlebot robot in simulation**.\n",
    "\n",
    "To construct a map you will use a technique named Simultaneous Localization and Mapping (SLAM). You are going to use gMapping, probably the most used SLAM algorithm. It uses laser scan matching and robot odometry to build a map of the environment.\n",
    "\n",
    "For more information see:\n",
    "\n",
    "- https://en.wikipedia.org/wiki/Simultaneous_localization_and_mapping\n",
    "- book: https://www.amazon.com/gp/product/0262201623/102-8479661-9831324?v=glance&n=283155&n=507846&s=books&v=glance\n",
    "- free udacity course: https://classroom.udacity.com/courses/cs373"
   ]
  },
  {
   "cell_type": "markdown",
   "metadata": {},
   "source": [
    "## 1) Load the gazebo environment:\n",
    "\n",
    "Use the command to load the world playground and the turtlebot in gazebo simulator:\n",
    "\n",
    "    TURTLEBOT_GAZEBO_WORLD_FILE=/opt/ros/kinetic/share/turtlebot_gazebo/worlds/playground.world roslaunch turtlebot_gazebo turtlebot_world.launch"
   ]
  },
  {
   "cell_type": "markdown",
   "metadata": {},
   "source": [
    "## 2) Start the SLAM software:\n",
    "\n",
    "    roslaunch turtlebot_navigation gmapping.launch.xml"
   ]
  },
  {
   "cell_type": "markdown",
   "metadata": {},
   "source": [
    "## 3) Load the visualization environment:\n",
    "\n",
    "Run rviz using the command:\n",
    "\n",
    "    rosrun rviz rviz \n",
    "    \n",
    "In rviz add visualization for the following element:\n",
    "\n",
    "- map (set the topic to /map)\n",
    "- laserscan (set the topic to /scan)\n",
    "- robotmodel\n",
    "- pointcloud (set the topic to /camera/depth/points)\n",
    "- image (set the topic to /camera/rgb/image_raw)\n",
    "\n",
    "\n",
    "You can save the setup for future reuse (save it into /data/ directory).\n"
   ]
  },
  {
   "cell_type": "code",
   "execution_count": null,
   "metadata": {
    "collapsed": true
   },
   "outputs": [],
   "source": []
  },
  {
   "cell_type": "markdown",
   "metadata": {},
   "source": [
    "## 3) Build a map\n",
    "\n",
    "In order to build your first map you need to move the robot around. \n",
    "\n",
    "You can use the teleoperation node that allows to control the turtlebot using keyboard keys.\n",
    "\n",
    "    roslaunch turtlebot_teleop keyboard_teleop.launch\n",
    "    \n",
    "Use the keys to redduce the maximum speed: recommended speed:\n",
    "\n",
    "    - linear: 0.1 m/sec\n",
    "    - angular: 0.1 m/sec\n",
    "    \n",
    "Then you can use the direction keys to move the robot (you have to keep the focus on the terminal window where you start the teleoperation node).\n"
   ]
  },
  {
   "cell_type": "markdown",
   "metadata": {
    "collapsed": true
   },
   "source": [
    "**Move slowly** until you get the footprint of the 5 objects. Your map should now look like to:\n",
    "\n",
    "\n",
    "![playground.png](static/img/playground.png)\n",
    "\n",
    "Save the map in /data/ directory using the command:\n",
    "\n",
    "    rosrun map_server map_saver -f /data/my_map\n",
    "\n",
    "It will create two files:\n",
    "\n",
    "    /data/my_map.pgm\n",
    "    /data/my_map.yaml\n"
   ]
  },
  {
   "cell_type": "code",
   "execution_count": null,
   "metadata": {
    "collapsed": true
   },
   "outputs": [],
   "source": []
  },
  {
   "cell_type": "code",
   "execution_count": null,
   "metadata": {
    "collapsed": true
   },
   "outputs": [],
   "source": []
  },
  {
   "cell_type": "code",
   "execution_count": null,
   "metadata": {
    "collapsed": true
   },
   "outputs": [],
   "source": []
  },
  {
   "cell_type": "code",
   "execution_count": null,
   "metadata": {
    "collapsed": true
   },
   "outputs": [],
   "source": []
  }
 ],
 "metadata": {
  "anaconda-cloud": {},
  "kernelspec": {
   "display_name": "Python 2",
   "language": "python",
   "name": "python2"
  },
  "language_info": {
   "codemirror_mode": {
    "name": "ipython",
    "version": 2
   },
   "file_extension": ".py",
   "mimetype": "text/x-python",
   "name": "python",
   "nbconvert_exporter": "python",
   "pygments_lexer": "ipython2",
   "version": "2.7.12"
  }
 },
 "nbformat": 4,
 "nbformat_minor": 1
}
