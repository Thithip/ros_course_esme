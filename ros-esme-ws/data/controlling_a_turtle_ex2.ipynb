{
 "cells": [
  {
   "cell_type": "markdown",
   "metadata": {},
   "source": [
    "# A turtle that rotates\n",
    "\n",
    "In this first exercice you have to make the turtle to rotate on itself at a speed of 10 degree/sec.\n",
    "\n",
    "To reset the turtle position (if required) you can use the rosservice /reset:\n",
    "\n",
    "     rosservice call /reset\n"
   ]
  },
  {
   "cell_type": "code",
   "execution_count": null,
   "metadata": {
    "collapsed": false
   },
   "outputs": [],
   "source": [
    "!rosservice call /reset   # this allow to call rosservice from the shell"
   ]
  },
  {
   "cell_type": "code",
   "execution_count": null,
   "metadata": {
    "collapsed": false,
    "scrolled": true
   },
   "outputs": [],
   "source": [
    "import rospy\n",
    "\n",
    "from geometry_msgs.msg import Twist   # we import the Twist message type\n",
    "\n",
    "rospy.init_node(\"TurtleEx2\")\n",
    "\n",
    "cmd_publisher = rospy.Publisher(\"/turtle1/cmd_vel\", Twist, queue_size=1)\n",
    "\n",
    "t = Twist()\n",
    "t.linear.x =  # set the rotation speed here (in radian/sec)! \n",
    "cmd_publisher.publish(t)\n",
    "\n",
    "while not rospy.is_shutdown():\n",
    "    cmd_publisher.publish(t)\n",
    "    rospy.sleep(0.1)"
   ]
  }
 ],
 "metadata": {
  "anaconda-cloud": {},
  "kernelspec": {
   "display_name": "Python 2",
   "language": "python",
   "name": "python2"
  },
  "language_info": {
   "codemirror_mode": {
    "name": "ipython",
    "version": 2
   },
   "file_extension": ".py",
   "mimetype": "text/x-python",
   "name": "python",
   "nbconvert_exporter": "python",
   "pygments_lexer": "ipython2",
   "version": "2.7.12"
  }
 },
 "nbformat": 4,
 "nbformat_minor": 1
}
