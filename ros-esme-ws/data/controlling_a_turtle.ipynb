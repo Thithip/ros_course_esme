{
 "cells": [
  {
   "cell_type": "markdown",
   "metadata": {},
   "source": [
    "# Controlling a turtle\n",
    "\n",
    "In the following you will write the code to move the turtle from ros turtlesim package.\n",
    "\n",
    "Your ros node should publish  **geometry_msg/Twist** message on topic **turtle1/cmd_vel**.\n",
    "\n",
    "The turtle can rotate on itself and move backward and forward.\n",
    "\n",
    "The Twist message is composed of a linear and an angular part, see http://docs.ros.org/api/geometry_msgs/html/msg/Twist.html.\n",
    "\n",
    "\n",
    "To run the turtle sim use:\n",
    "   \n",
    "       rosrun turtlesim turtlesim_node\n",
    "\n",
    "To reset the position of turtle you can use the shell command:\n",
    "\n",
    "       rosservice call /reset\n",
    "   \n",
    "More information concerning the turtlesim ros package could be find at http://wiki.ros.org/turtlesim.\n",
    "\n",
    "\n",
    "You can execute the following cell in order to start the turtlesim node."
   ]
  },
  {
   "cell_type": "code",
   "execution_count": 1,
   "metadata": {
    "collapsed": false
   },
   "outputs": [
    {
     "name": "stdout",
     "output_type": "stream",
     "text": [
      "Starting job # 0 in a separate thread.\n"
     ]
    }
   ],
   "source": [
    "%%bash --out output --err error --bg\n",
    "rosrun turtlesim turtlesim_node "
   ]
  },
  {
   "cell_type": "markdown",
   "metadata": {},
   "source": [
    "- [Exercice 1](controlling_a_turtle_ex1.ipynb)\n",
    "- [Exercice 2](controlling_a_turtle_ex2.ipynb)\n",
    "- [Exercice 3](controlling_a_turtle_ex3.ipynb)\n",
    "- [Exercice 4](controlling_a_turtle_ex4.ipynb)\n",
    "- [Exercice 5](controlling_a_turtlebot_ex1.ipynb)"
   ]
  }
 ],
 "metadata": {
  "anaconda-cloud": {},
  "kernelspec": {
   "display_name": "Python 2",
   "language": "python",
   "name": "python2"
  },
  "language_info": {
   "codemirror_mode": {
    "name": "ipython",
    "version": 2
   },
   "file_extension": ".py",
   "mimetype": "text/x-python",
   "name": "python",
   "nbconvert_exporter": "python",
   "pygments_lexer": "ipython2",
   "version": "2.7.12"
  }
 },
 "nbformat": 4,
 "nbformat_minor": 1
}
