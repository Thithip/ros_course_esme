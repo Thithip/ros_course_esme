{
 "cells": [
  {
   "cell_type": "markdown",
   "metadata": {},
   "source": [
    "# Go To (x,y)\n",
    "\n",
    "\n",
    "In this exercice you will be ask to make the turtle move to an oriented point.\n",
    "\n",
    "You can use the following angle/velocity control:\n",
    "\n",
    "$\n",
    "v = K_v * \\sqrt{(x - cur_x)^2 + (y- cur_y)^2}\n",
    "$\n",
    "\n",
    "$\n",
    "theta = tan^{-1}{(y - cur_y)/(x - cur_x)}\n",
    "$\n",
    "\n",
    "$\n",
    "angle_velocity = K_t * (theta - cur_theta)\n",
    "$\n",
    "\n",
    "You can use different value for kv and kt, e.g kv=0.1, kt=1.\n",
    "You could also limit the min velocity that you send to the turtle, for instance a velocity bellow 0.1 meter/sec is maybee too slow.\n",
    "\n",
    "\n",
    "\n",
    "To reset the turtle position (if required) you can use the rosservice /reset:\n",
    "\n",
    "     rosservice call /reset\n",
    "\n",
    "For more information see : https://www.youtube.com/watch?v=Qh15Nol5htM&feature=youtu.be&list=PLSzYQGCXRW1HLWHdJ7ehZPA-nn7R9UKPa"
   ]
  },
  {
   "cell_type": "code",
   "execution_count": 1,
   "metadata": {
    "collapsed": false,
    "scrolled": true
   },
   "outputs": [
    {
     "name": "stdout",
     "output_type": "stream",
     "text": [
      "\r\n"
     ]
    }
   ],
   "source": [
    "!rosservice call /reset   # this allow to call rosservice from the shell"
   ]
  },
  {
   "cell_type": "code",
   "execution_count": 2,
   "metadata": {
    "collapsed": false
   },
   "outputs": [
    {
     "name": "stdout",
     "output_type": "stream",
     "text": [
      "[INFO] [1484419064.694074]: x: 5.544444561\n",
      "y: 5.544444561\n",
      "theta: 0.0\n",
      "linear_velocity: 0.0\n",
      "angular_velocity: 0.0\n"
     ]
    }
   ],
   "source": [
    "import rospy\n",
    "from turtlesim.msg import Pose  # import the turtlesim Pose message type\n",
    "from geometry_msgs.msg import Twist   # we import the Twist message type\n",
    "import math\n",
    "\n",
    "turtle_pose = Pose() \n",
    "def pose_callback(data):\n",
    "    \"\"\"\n",
    "    a callback to save the current turtle pose into the global variable turtle_pose\n",
    "    \"\"\"\n",
    "    global turtle_pose\n",
    "    turtle_pose = data\n",
    "    #rospy.loginfo(\"New pose data {}\".format(data))\n",
    "\n",
    "\n",
    "rospy.init_node(\"TurtleEx4\")\n",
    "\n",
    "turtle_pose_subscriber = rospy.Subscriber(\"/turtle1/pose\", Pose, pose_callback, queue_size=1)\n",
    "cmd_publisher = rospy.Publisher(\"/turtle1/cmd_vel\", Twist, queue_size=1)\n",
    "\n",
    "\n",
    "t = Twist()\n",
    "\n",
    "rospy.sleep(0.2)\n",
    "rospy.loginfo(turtle_pose)\n",
    "init_turtle_pose = turtle_pose\n",
    "\n",
    "\n",
    "def dist_to_dest(x, y, cur_x, cur_y):\n",
    "    return math.sqrt((x - cur_x)**2 + (y-cur_y)**2)\n",
    "    \n",
    "def send_cmd(linear_velocity, angular_velocity):\n",
    "    vel_msg = Twist()\n",
    "    vel_msg.linear.x = linear_velocity\n",
    "    vel_msg.angular.z = angular_velocity\n",
    "    global cmd_publisher\n",
    "    cmd_publisher.publish(vel_msg)\n",
    "\n",
    "def move_to(x, y):\n",
    "#    TODO write the move to function !\n",
    "    rospy.loginfo(\"moving to ({}, {})\".format(x, y))\n",
    "    global turtle_pose\n",
    "    kv = 0.1\n",
    "    kt = 0.5\n",
    "    d = dist_to_dest(x, y, turtle_pose.x, turtle_pose.y) \n",
    "    while abs(d) > 0.1:\n",
    "        theta = math.atan2((y - turtle_pose.y), (x-turtle_pose.x))\n",
    "        angular_velocity = kt * (theta - turtle_pose.theta )\n",
    "        linear_velocity = max(0.1, kv * d)\n",
    "        send_cmd(linear_velocity, angular_velocity)\n",
    "        rospy.sleep(0.1)\n",
    "        d = dist_to_dest(x, y, turtle_pose.x, turtle_pose.y) \n",
    "    rospy.loginfo(\"End of move\")\n",
    "\n",
    "\n",
    "#move_to(8, 4)\n",
    "        \n",
    "        \n",
    "\n",
    "\n"
   ]
  },
  {
   "cell_type": "code",
   "execution_count": 4,
   "metadata": {
    "collapsed": false
   },
   "outputs": [
    {
     "name": "stdout",
     "output_type": "stream",
     "text": [
      "[INFO] [1484419086.776718]: moving to (1, 1)\n",
      "[INFO] [1484419115.845871]: End of move\n"
     ]
    }
   ],
   "source": [
    "move_to(1, 1)\n"
   ]
  },
  {
   "cell_type": "code",
   "execution_count": null,
   "metadata": {
    "collapsed": true
   },
   "outputs": [],
   "source": [
    "!xterm \n"
   ]
  }
 ],
 "metadata": {
  "anaconda-cloud": {},
  "kernelspec": {
   "display_name": "Python 2",
   "language": "python",
   "name": "python2"
  },
  "language_info": {
   "codemirror_mode": {
    "name": "ipython",
    "version": 2
   },
   "file_extension": ".py",
   "mimetype": "text/x-python",
   "name": "python",
   "nbconvert_exporter": "python",
   "pygments_lexer": "ipython2",
   "version": "2.7.12"
  }
 },
 "nbformat": 4,
 "nbformat_minor": 1
}
